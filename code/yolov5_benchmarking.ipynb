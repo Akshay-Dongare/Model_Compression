{
 "cells": [
  {
   "cell_type": "code",
   "execution_count": null,
   "id": "3ef0e6b0",
   "metadata": {},
   "outputs": [],
   "source": [
    "$ conda create -n newenv python=3.9.5"
   ]
  },
  {
   "cell_type": "code",
   "execution_count": null,
   "id": "d2b34daf",
   "metadata": {},
   "outputs": [],
   "source": [
    "$ conda activate newenv"
   ]
  },
  {
   "cell_type": "code",
   "execution_count": null,
   "id": "9c415944",
   "metadata": {},
   "outputs": [],
   "source": [
    "git clone https://github.com/ultralytics/yolov5  # clone\n",
    "cd yolov5\n",
    "pip install -r requirements.txt  # install"
   ]
  },
  {
   "cell_type": "markdown",
   "id": "5670e5a5",
   "metadata": {},
   "source": [
    "## Benchmarking YOLOv5x\n",
    "Now, Let us benchmark YOLOv5x on COCO dataset"
   ]
  },
  {
   "cell_type": "code",
   "execution_count": null,
   "id": "37d48d2c",
   "metadata": {},
   "outputs": [],
   "source": [
    "$ python val.py --weights yolov5x.pt --data coco.yaml --img 640 --half --workers 4"
   ]
  },
  {
   "cell_type": "markdown",
   "id": "cafc1020",
   "metadata": {},
   "source": [
    "## The --workers 4 flag \n",
    "Sets the number of workers to 4(Default is 8)\n",
    "I am using this flag since my GPU has 4Gb RAM which cannot fit more data into it's memory"
   ]
  },
  {
   "cell_type": "markdown",
   "id": "615a6121",
   "metadata": {},
   "source": [
    "## Benchmarking YOLOv5l\n",
    "Now, Let us benchmark YOLOv5x on COCO dataset"
   ]
  },
  {
   "cell_type": "code",
   "execution_count": null,
   "id": "587fb587",
   "metadata": {},
   "outputs": [],
   "source": [
    "$ python val.py --weights yolov5l.pt --data coco.yaml --img 640 --half --workers 4"
   ]
  },
  {
   "cell_type": "markdown",
   "id": "6d5ecd74",
   "metadata": {},
   "source": [
    "## Edit the val.py file\n",
    "Add the following to it\n",
    "\n",
    "from utils.torch_utils import prune\n",
    "prune(model,0.3) #prunes the model to 30% global sparsity"
   ]
  },
  {
   "cell_type": "markdown",
   "id": "975e6989",
   "metadata": {},
   "source": [
    "### Now, run this to check the performance of Pruned model"
   ]
  },
  {
   "cell_type": "markdown",
   "id": "5f1f3e69",
   "metadata": {},
   "source": [
    "### YOLOv5x"
   ]
  },
  {
   "cell_type": "code",
   "execution_count": null,
   "id": "fbb28930",
   "metadata": {},
   "outputs": [],
   "source": [
    "$ python val.py --weights yolov5x.pt --data coco.yaml --img 640 --half --workers 4"
   ]
  },
  {
   "cell_type": "markdown",
   "id": "c499a8e8",
   "metadata": {},
   "source": [
    "### YOLOv5l"
   ]
  },
  {
   "cell_type": "code",
   "execution_count": null,
   "id": "4f7fd5cc",
   "metadata": {},
   "outputs": [],
   "source": [
    "$ python val.py --weights yolov5l.pt --data coco.yaml --img 640 --half --workers 4"
   ]
  },
  {
   "cell_type": "markdown",
   "id": "54caf9c7",
   "metadata": {},
   "source": [
    "## Quantize the pruned YOLOv5l model and benchmark it"
   ]
  },
  {
   "cell_type": "code",
   "execution_count": null,
   "id": "89920ab8",
   "metadata": {},
   "outputs": [],
   "source": [
    "$ cd .."
   ]
  },
  {
   "cell_type": "code",
   "execution_count": null,
   "id": "2662a981",
   "metadata": {},
   "outputs": [],
   "source": [
    "$ python Quantize_Benchmark.py"
   ]
  }
 ],
 "metadata": {
  "kernelspec": {
   "display_name": "Python 3 (ipykernel)",
   "language": "python",
   "name": "python3"
  },
  "language_info": {
   "codemirror_mode": {
    "name": "ipython",
    "version": 3
   },
   "file_extension": ".py",
   "mimetype": "text/x-python",
   "name": "python",
   "nbconvert_exporter": "python",
   "pygments_lexer": "ipython3",
   "version": "3.9.5"
  }
 },
 "nbformat": 4,
 "nbformat_minor": 5
}
